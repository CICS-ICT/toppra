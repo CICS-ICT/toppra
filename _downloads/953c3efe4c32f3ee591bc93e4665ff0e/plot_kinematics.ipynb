{
  "cells": [
    {
      "cell_type": "code",
      "execution_count": null,
      "metadata": {
        "collapsed": false
      },
      "outputs": [],
      "source": [
        "%matplotlib inline"
      ]
    },
    {
      "cell_type": "markdown",
      "metadata": {},
      "source": [
        "\nRetime a path subject to kinematic constraints\n==============================================\n\n"
      ]
    },
    {
      "cell_type": "code",
      "execution_count": null,
      "metadata": {
        "collapsed": false
      },
      "outputs": [],
      "source": [
        "import toppra as ta\nimport toppra.constraint as constraint\nimport toppra.algorithm as algo\nimport numpy as np\nimport matplotlib.pyplot as plt\nimport time\n\nta.setup_logging(\"INFO\")\n\n\ndef generate_new_problem(seed=9):\n    # Parameters\n    N_samples = 5\n    dof = 7\n    np.random.seed(seed)\n    way_pts = np.random.randn(N_samples, dof)\n    return (\n        np.linspace(0, 1, 5),\n        way_pts,\n        10 + np.random.rand(dof) * 20,\n        10 + np.random.rand(dof) * 2,\n    )\n\n\nss, way_pts, vlims, alims = generate_new_problem()\npath = ta.SplineInterpolator(ss, way_pts)\npc_vel = constraint.JointVelocityConstraint(vlims)\npc_acc = constraint.JointAccelerationConstraint(alims)\ninstance = algo.TOPPRA([pc_vel, pc_acc], path, parametrizer=\"ParametrizeConstAccel\")\njnt_traj = instance.compute_trajectory()"
      ]
    },
    {
      "cell_type": "code",
      "execution_count": null,
      "metadata": {
        "collapsed": false
      },
      "outputs": [],
      "source": [
        "ts_sample = np.linspace(0, jnt_traj.duration, 100)\nqs_sample = jnt_traj(ts_sample)\nfor i in range(path.dof):\n    # plot the i-th joint trajectory\n    plt.plot(ts_sample, qs_sample[:, i], c=\"C{:d}\".format(i))\nplt.xlabel(\"Time (s)\")\nplt.ylabel(\"Joint position (rad/s^2)\")\nplt.show()"
      ]
    },
    {
      "cell_type": "code",
      "execution_count": null,
      "metadata": {
        "collapsed": false
      },
      "outputs": [],
      "source": [
        "instance.compute_feasible_sets()\ninstance.inspect()"
      ]
    }
  ],
  "metadata": {
    "kernelspec": {
      "display_name": "Python 3",
      "language": "python",
      "name": "python3"
    },
    "language_info": {
      "codemirror_mode": {
        "name": "ipython",
        "version": 3
      },
      "file_extension": ".py",
      "mimetype": "text/x-python",
      "name": "python",
      "nbconvert_exporter": "python",
      "pygments_lexer": "ipython3",
      "version": "3.6.11"
    }
  },
  "nbformat": 4,
  "nbformat_minor": 0
}